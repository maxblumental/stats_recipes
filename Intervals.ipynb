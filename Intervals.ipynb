{
 "cells": [
  {
   "cell_type": "markdown",
   "metadata": {},
   "source": [
    "# Confidence intervals"
   ]
  },
  {
   "cell_type": "markdown",
   "metadata": {},
   "source": [
    "## 0. Intro"
   ]
  },
  {
   "cell_type": "markdown",
   "metadata": {},
   "source": [
    "A **confidence interval** is an interval, computed from the statistics of the observed data, that might contain the true value of an unknown population parameter. The interval has an associated **confidence level** that represents the frequency (i.e. the proportion) of possible confidence intervals that contain the true value of the unknown population parameter.\n",
    "\n",
    "**Interpretation**: (Taking the 90% confidence interval as an example.) \"There is a 90% probability that the calculated confidence interval from some future experiment encompasses the true value of the population parameter.\""
   ]
  },
  {
   "cell_type": "markdown",
   "metadata": {},
   "source": [
    "## 1. For mean"
   ]
  },
  {
   "cell_type": "markdown",
   "metadata": {},
   "source": [
    "### z-interval\n",
    "\n",
    "When variance $\\sigma^2$ is known.\n",
    "\n",
    "$$\\bar{X_n} \\pm z_{1-\\frac{\\alpha}{2}} \\sqrt{\\frac{\\mathbb{D} X}{n}}$$\n",
    "\n",
    "$$\\bar{X_n} \\pm z_{1-\\frac{\\alpha}{2}} \\frac{\\sigma}{\\sqrt{n}}$$"
   ]
  },
  {
   "cell_type": "markdown",
   "metadata": {},
   "source": [
    "### t-interval\n",
    "\n",
    "Uses sample variance $S^2$.\n",
    "\n",
    "$$\\bar{X_n} \\pm t_{1-\\frac{\\alpha}{2}} \\frac{S}{\\sqrt{n}}$$"
   ]
  },
  {
   "cell_type": "markdown",
   "metadata": {},
   "source": [
    "## 2. For a portion"
   ]
  },
  {
   "cell_type": "markdown",
   "metadata": {},
   "source": [
    "### normal\n",
    "\n",
    "$$\\hat{p} \\pm z_{1-\\frac{\\alpha}{2}} \\sqrt{\\frac{\\hat{p}(1-\\hat{p})}{n}}$$"
   ]
  },
  {
   "cell_type": "markdown",
   "metadata": {},
   "source": [
    "### wilson\n",
    "\n",
    "$\\hat{p}$ is close to $0$ or $1$.\n",
    "\n",
    "$$\n",
    "\\frac{1}{1 + \\frac{z^2}{n}}\n",
    "\\left( \n",
    "\\hat{p} + \\frac{z^2}{2n} \\pm z \\sqrt{\\frac{\\hat{p}(1-\\hat{p})}{n} + \\frac{z^2}{4n^2}} \n",
    "\\right), \\ z \\equiv z_{1 - \\frac{\\alpha}{2}}\n",
    "$$"
   ]
  },
  {
   "cell_type": "markdown",
   "metadata": {},
   "source": [
    "## 3. For difference of two portions"
   ]
  },
  {
   "cell_type": "markdown",
   "metadata": {},
   "source": [
    "## 4. Bootstrap"
   ]
  }
 ],
 "metadata": {
  "kernelspec": {
   "display_name": "Python 3",
   "language": "python",
   "name": "python3"
  },
  "language_info": {
   "codemirror_mode": {
    "name": "ipython",
    "version": 3
   },
   "file_extension": ".py",
   "mimetype": "text/x-python",
   "name": "python",
   "nbconvert_exporter": "python",
   "pygments_lexer": "ipython3",
   "version": "3.6.5"
  }
 },
 "nbformat": 4,
 "nbformat_minor": 2
}
