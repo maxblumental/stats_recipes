{
 "cells": [
  {
   "cell_type": "markdown",
   "metadata": {},
   "source": [
    "# Hypothesis testing"
   ]
  },
  {
   "cell_type": "markdown",
   "metadata": {},
   "source": [
    "## 0. Intro\n",
    "\n",
    "* **Null hypothesis**: assumes that the observation is due to a chance factor.\n",
    "\n",
    "* **Alternative hypothesis**: shows that observations are the result of a real effect.\n",
    "\n",
    "* **Level of significance**: a probability threshold below which the null hypothesis will be rejected.\n",
    "\n",
    "#### How to make a test:\n",
    "\n",
    "1. State the relevant null and alternative hypotheses.\n",
    "2. Pick a test statistic $T$.\n",
    "3. Derive the distribution of the statistic under the null hypothesis.\n",
    "4. Select a significance level $α$. Common values are $5\\%$ and $1\\%$.\n",
    "5. Compute the observed value $t_{obs}$ of the test statistic $T$.\n",
    "6. Decide to either reject $H_0$ in favor of the alternative or not reject it.\n",
    "\n",
    "#### Errors\n",
    "\n",
    "* __Type I error__: reject true null hypothesis.  $p(Error_I) \\leq \\alpha$.\n",
    "* __Type II errors__: accept false null hypothesis. \n",
    "\n",
    "__Power__ - the probability that the test rejects $H_0$ when a specific alternative $H_1$ is true:\n",
    "\n",
    "$$\\textrm{pow} = P(\\textrm{reject }H_0| H_1) = 1 - P(\\textrm{accept }H_0| H_1) = 1 - P(Error_{II})$$\n",
    "\n",
    "__How to pick a criterion__: among all correct criteria select one with the highest power.\n",
    "\n",
    "__$p$-value__ - the probability, under the null hypothesis, of obtaining a result equal to or more extreme than what was actually observed:\n",
    "\n",
    "$$p = P(T \\geq t | H_0)$$\n",
    "\n",
    "__NB__: Statistical significance does not imply practical significance."
   ]
  },
  {
   "cell_type": "markdown",
   "metadata": {},
   "source": [
    "## 1. Binomial test for portion"
   ]
  },
  {
   "cell_type": "markdown",
   "metadata": {},
   "source": [
    "The test can be used when we have results of a set of experiments with only 2 possible outcomes each. In this setting we can check hypotheses about the share $p$ of experiments with positive outcome.\n",
    "\n",
    "**Sample**: $X^n = (X_1, \\dots, X_n)$\n",
    "\n",
    "**$H_0$**: $X \\sim Bernoulli(p)$\n",
    "\n",
    "**$H_1$**: $X \\sim Bernoulli(q)$, where $q \\lt \\neq \\gt p$\n",
    "\n",
    "**Statistic**: $T(X^n) = \\sum_{i=1}^{n} X_i$\n",
    "\n",
    "**Null distribution**: $T(X^n) \\sim Bin(n, \\frac{1}{2})$"
   ]
  },
  {
   "cell_type": "markdown",
   "metadata": {},
   "source": [
    "## 2. $\\chi^2$ test\n",
    "\n",
    "With this test you can check if the sample $X^n$ has a particular distribution $F(x)$.\n",
    "\n",
    "**Sample**: $X^n = (X_1, \\dots, X_n)$\n",
    "\n",
    "**$H_0$**: $X \\sim F(x)$\n",
    "\n",
    "**$H_1$**: $X \\nsim F(x)$\n",
    "\n",
    "**Statistic**: $T(X^n) = \\sum_{i=1}^{n} \\frac{(n_i - np_i)^2}{np_i}$, $n_i$ - number of elements in the $i$-th bin, $p_i$ - probability of being in the $i$-th bin\n",
    "\n",
    "**Null distribution**: $T(X^n) \\sim \\chi^2$"
   ]
  },
  {
   "cell_type": "markdown",
   "metadata": {},
   "source": [
    "## 3. Relation to confidence intervals"
   ]
  },
  {
   "cell_type": "markdown",
   "metadata": {},
   "source": [
    "For a hypothesis $H_0$: $\\theta = \\theta_0$ against $H_1$: $\\theta \\neq \\theta_0$ p-value can be found using confidence intervals.\n",
    "\n",
    "$$p\\textrm{-value} = \\max \\left\\{ \\alpha: \\theta_0 \\in \\textrm{CI}_{1-\\alpha} \\right\\} $$"
   ]
  }
 ],
 "metadata": {
  "kernelspec": {
   "display_name": "Python 3",
   "language": "python",
   "name": "python3"
  },
  "language_info": {
   "codemirror_mode": {
    "name": "ipython",
    "version": 3
   },
   "file_extension": ".py",
   "mimetype": "text/x-python",
   "name": "python",
   "nbconvert_exporter": "python",
   "pygments_lexer": "ipython3",
   "version": "3.7.1"
  }
 },
 "nbformat": 4,
 "nbformat_minor": 2
}
