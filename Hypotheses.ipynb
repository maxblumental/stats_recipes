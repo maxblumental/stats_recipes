{
 "cells": [
  {
   "cell_type": "markdown",
   "metadata": {},
   "source": [
    "# Hypothesis testing"
   ]
  },
  {
   "cell_type": "markdown",
   "metadata": {},
   "source": [
    "## 0. Intro\n",
    "\n",
    "* **Null hypothesis**: assumes that the observation is due to a chance factor.\n",
    "\n",
    "* **Alternative hypothesis**: shows that observations are the result of a real effect.\n",
    "\n",
    "* **Level of significance**: a probability threshold below which the null hypothesis will be rejected.\n",
    "\n",
    "#### How to make a test:\n",
    "\n",
    "1. State the relevant null and alternative hypotheses.\n",
    "2. Pick a test statistics $T$.\n",
    "3. Derive the distribution of the statistic under the null hypothesis.\n",
    "4. Select a significance level $α$. Common values are $5\\%$ and $1\\%$.\n",
    "\n",
    "Errors I and II\n",
    "\n",
    "$p(Error_I) \\leq \\alpha$ - a correct criterion\n",
    "\n",
    "$\\textrm{pow} = P(\\textrm{decline} H_0| H_1) = 1 - P(\\textrm{accept} H_0| H_1) = 1 - P(Error_{II})$\n",
    "\n",
    "__How to pick a criterion__: among all correct criteria select one with the highest power\n",
    "\n",
    "$p = P(T \\geq t | H_0)$\n",
    "\n",
    "Statistical significance does not imply practical significance."
   ]
  },
  {
   "cell_type": "markdown",
   "metadata": {},
   "source": [
    "## 1. Binomial test"
   ]
  },
  {
   "cell_type": "markdown",
   "metadata": {},
   "source": [
    "## 2. $\\chi^2$ test"
   ]
  },
  {
   "cell_type": "markdown",
   "metadata": {},
   "source": [
    "## 3. Relation to confidence intervals"
   ]
  }
 ],
 "metadata": {
  "kernelspec": {
   "display_name": "Python 3",
   "language": "python",
   "name": "python3"
  },
  "language_info": {
   "codemirror_mode": {
    "name": "ipython",
    "version": 3
   },
   "file_extension": ".py",
   "mimetype": "text/x-python",
   "name": "python",
   "nbconvert_exporter": "python",
   "pygments_lexer": "ipython3",
   "version": "3.6.5"
  }
 },
 "nbformat": 4,
 "nbformat_minor": 2
}
